{
 "cells": [
  {
   "cell_type": "code",
   "execution_count": 1,
   "metadata": {},
   "outputs": [],
   "source": [
    "import itertools\n",
    "import numpy as np\n",
    "import pandas as pd\n",
    "import pickle\n",
    "import statsmodels.api as sm\n",
    "from sklearn.metrics import r2_score,mean_absolute_error\n",
    "from sklearn import linear_model\n",
    "import time\n",
    "import matplotlib.pyplot as plt"
   ]
  },
  {
   "cell_type": "code",
   "execution_count": 2,
   "metadata": {},
   "outputs": [],
   "source": [
    "# import Fall training data with all features\n",
    "data = pickle.load(open('final_dataset_18fall.p',\"rb\"))"
   ]
  },
  {
   "cell_type": "code",
   "execution_count": 3,
   "metadata": {},
   "outputs": [],
   "source": [
    "del data['classes']"
   ]
  },
  {
   "cell_type": "code",
   "execution_count": 4,
   "metadata": {
    "scrolled": true
   },
   "outputs": [],
   "source": [
    "#split training data to four folds\n",
    "train_1 = data[(data['week_n']==3)|(data['week_n']==4)|(data['week_n']==5)|(data['week_n']==6)|(data['week_n']==7)]\n",
    "train_2 = pd.concat([train_1,data[(data['week_n']==8)]])\n",
    "train_3 = pd.concat([train_2,data[(data['week_n']==9)]])\n",
    "train_4 = pd.concat([train_3,data[(data['week_n']==10)]])\n",
    "test_1 = data[(data['week_n']==8)]\n",
    "test_2 = data[(data['week_n']==9)]\n",
    "test_3 = data[(data['week_n']==10)]\n",
    "test_4 = data[(data['week_n']==11)|(data['week_n']==13)|(data['week_n']==15)]"
   ]
  },
  {
   "cell_type": "code",
   "execution_count": 5,
   "metadata": {
    "scrolled": true
   },
   "outputs": [],
   "source": [
    "# Create input variables and output variables\n",
    "x_train_1 = train_1[train_1.columns.difference(['sales','item_name'])]\n",
    "x_train_2 = train_2[train_2.columns.difference(['sales','item_name'])]\n",
    "x_train_3 = train_3[train_3.columns.difference(['sales','item_name'])]\n",
    "x_train_4 = train_4[train_4.columns.difference(['sales','item_name'])]\n",
    "x_test_1 = test_1[test_1.columns.difference(['sales','item_name'])]\n",
    "x_test_2 = test_2[test_2.columns.difference(['sales','item_name'])]\n",
    "x_test_3 = test_3[test_3.columns.difference(['sales','item_name'])]\n",
    "x_test_4 = test_4[test_4.columns.difference(['sales','item_name'])]\n",
    "y_train_1 = train_1[['sales']]\n",
    "y_train_2 = train_2[['sales']]\n",
    "y_train_3 = train_3[['sales']]\n",
    "y_train_4 = train_4[['sales']]\n",
    "y_test_1 = test_1[['sales']]\n",
    "y_test_2 = test_2[['sales']]\n",
    "y_test_3 = test_3[['sales']]\n",
    "y_test_4 = test_4[['sales']]"
   ]
  },
  {
   "cell_type": "code",
   "execution_count": 6,
   "metadata": {},
   "outputs": [],
   "source": [
    "x_train = [x_train_1,x_train_2,x_train_3,x_train_4]\n",
    "y_train = [y_train_1,y_train_2,y_train_3,y_train_4]\n",
    "x_test = [x_test_1,x_test_2,x_test_3,x_test_4]\n",
    "y_test = [y_test_1,y_test_2,y_test_3,y_test_4]"
   ]
  },
  {
   "cell_type": "markdown",
   "metadata": {},
   "source": [
    "## Model1: All products + Linear Model"
   ]
  },
  {
   "cell_type": "code",
   "execution_count": 7,
   "metadata": {},
   "outputs": [],
   "source": [
    "start = time.time()\n",
    "#conduct best subset selection with 4-fold cross validation\n",
    "#store 3 kinds of metrics in perdormance dictionary({variable combination:[metric_1,metric_2,metric_3,mae_of_fold_4]})\n",
    "predictorcols = x_train_1.columns.difference(['Cycle__1'])\n",
    "performance = dict()\n",
    "for k in range(1,len(predictorcols)+1):\n",
    "    for variables in itertools.combinations(predictorcols, k):\n",
    "        r2 = []\n",
    "        mae = []\n",
    "        larg10 = []\n",
    "        for i in range(4):\n",
    "            model = linear_model.LinearRegression()\n",
    "            model.fit(x_train[i][list(variables)],np.ravel(y_train[i]))\n",
    "            y_pred = model.predict(x_test[i][list(variables)])\n",
    "            mae_fold = mean_absolute_error(np.ravel(y_test[i]), y_pred)\n",
    "            r2_fold = r2_score(np.ravel(y_test[i]), y_pred)\n",
    "            larg_than_10 = np.sum(np.absolute(y_pred - np.ravel(y_test[i])) > 10)\n",
    "            mae.append(mae_fold)\n",
    "            r2.append(r2_fold)\n",
    "            larg10.append(larg_than_10)\n",
    "        performance[variables] = [np.mean(mae[:-1]),np.mean(r2[:-1]),np.mean(larg10[:-1]),mae_fold]\n",
    "\n",
    "end = time.time()"
   ]
  },
  {
   "cell_type": "markdown",
   "metadata": {},
   "source": [
    "Find the best model according to different kinds of metrics"
   ]
  },
  {
   "cell_type": "markdown",
   "metadata": {},
   "source": [
    "Format of metrics: [mean absolute error, R2, number of difference>10, mae of fold4]\n",
    "\n",
    "(mae for fold 4 is a little bit special due to its larger size.)"
   ]
  },
  {
   "cell_type": "code",
   "execution_count": 8,
   "metadata": {},
   "outputs": [],
   "source": [
    "# The following cells test which sellout threshold gives best model performance"
   ]
  },
  {
   "cell_type": "code",
   "execution_count": 14,
   "metadata": {
    "scrolled": true
   },
   "outputs": [
    {
     "name": "stdout",
     "output_type": "stream",
     "text": [
      "Best variable combination based on mae(sellout 75%):  ('avg_over_last_3_cycles', 'exam', 'last_2_week_sales', 'n_users', 'sellout*2_week_lag') \n",
      " \t\t\tMetrics: [3.4115870929308887, 0.4789922956089023, 0.3333333333333333, 5.982945001598746]\n"
     ]
    }
   ],
   "source": [
    "print('Best variable combination based on mae(sellout 75%): ',min(performance.items(), key=lambda x: x[1][0])[0],'\\n','\\t\\t\\tMetrics:',\n",
    "      min(performance.items(), key=lambda x: x[1][0])[1])"
   ]
  },
  {
   "cell_type": "code",
   "execution_count": 55,
   "metadata": {},
   "outputs": [
    {
     "name": "stdout",
     "output_type": "stream",
     "text": [
      "Best variable combination based on mae(sellout 50%):  ('Cycle__2', 'avg_over_last_3_cycles', 'exam', 'last_2_week_sales', 'n_users', 'sellout', 'sellout*2_week_lag', 'sports') \n",
      " \t\t\tMetrics: [3.4534213985869164, 0.45769349655287583, 0.6666666666666666, 5.502581869148357]\n"
     ]
    }
   ],
   "source": [
    "print('Best variable combination based on mae(sellout 50%): ',min(performance.items(), key=lambda x: x[1][0])[0],'\\n','\\t\\t\\tMetrics:',\n",
    "      min(performance.items(), key=lambda x: x[1][0])[1])"
   ]
  },
  {
   "cell_type": "code",
   "execution_count": 9,
   "metadata": {},
   "outputs": [
    {
     "name": "stdout",
     "output_type": "stream",
     "text": [
      "Best variable combination based on mae:  ('avg_over_last_3_cycles', 'exam', 'last_2_week_sales', 'n_users', 'sellout*2_week_lag') \n",
      " \t\t\tMetrics: [3.4115870929308887, 0.4789922956089023, 0.3333333333333333, 5.982945001598746]\n"
     ]
    }
   ],
   "source": [
    "print('Best variable combination based on mae: ',min(performance.items(), key=lambda x: x[1][0])[0],'\\n','\\t\\t\\tMetrics:',\n",
    "      min(performance.items(), key=lambda x: x[1][0])[1])"
   ]
  },
  {
   "cell_type": "code",
   "execution_count": null,
   "metadata": {},
   "outputs": [],
   "source": []
  },
  {
   "cell_type": "code",
   "execution_count": 69,
   "metadata": {},
   "outputs": [
    {
     "name": "stdout",
     "output_type": "stream",
     "text": [
      "Best variable combination based on R2(sellout 75%):  ('Cycle__2', 'avg_over_last_3_cycles', 'last_2_week_sales', 'n_users', 'sellout*2_week_lag') \n",
      " \t\t\tMetrics: [3.4236487953439916, 0.49180265802714135, 0.3333333333333333, 5.48957870504419]\n"
     ]
    }
   ],
   "source": [
    "print('Best variable combination based on R2(sellout 75%): ',max(performance.items(), key=lambda x: x[1][1])[0],'\\n','\\t\\t\\tMetrics:',\n",
    "      max(performance.items(), key=lambda x: x[1][1])[1])"
   ]
  },
  {
   "cell_type": "code",
   "execution_count": 56,
   "metadata": {},
   "outputs": [
    {
     "name": "stdout",
     "output_type": "stream",
     "text": [
      "Best variable combination based on R2(sellout 50%):  ('Cycle__2', 'avg_over_last_3_cycles', 'exam', 'last_2_week_sales', 'n_users', 'sellout*2_week_lag', 'sports') \n",
      " \t\t\tMetrics: [3.4789715843346234, 0.4594307957551485, 0.6666666666666666, 5.487739104167931]\n"
     ]
    }
   ],
   "source": [
    "print('Best variable combination based on R2(sellout 50%): ',max(performance.items(), key=lambda x: x[1][1])[0],'\\n','\\t\\t\\tMetrics:',\n",
    "      max(performance.items(), key=lambda x: x[1][1])[1])"
   ]
  },
  {
   "cell_type": "code",
   "execution_count": 18,
   "metadata": {
    "scrolled": true
   },
   "outputs": [
    {
     "name": "stdout",
     "output_type": "stream",
     "text": [
      "Best variable combination based on R2:  ('avg_over_last_3_cycles', 'exam', 'n_users', 'sellout', 'sellout*2_week_lag') \n",
      " \t\t\tMetrics: [3.5726341566972564, 0.44741703448334613, 0.6666666666666666, 5.966942145570153]\n"
     ]
    }
   ],
   "source": [
    "print('Best variable combination based on R2: ',max(performance.items(), key=lambda x: x[1][1])[0],'\\n','\\t\\t\\tMetrics:',\n",
    "      max(performance.items(), key=lambda x: x[1][1])[1])"
   ]
  },
  {
   "cell_type": "code",
   "execution_count": null,
   "metadata": {},
   "outputs": [],
   "source": []
  },
  {
   "cell_type": "code",
   "execution_count": 70,
   "metadata": {},
   "outputs": [
    {
     "name": "stdout",
     "output_type": "stream",
     "text": [
      "Best variable combination based on # of difference>10(sellout 75%):  ('last_2_week_sales', 'sellout') \n",
      " \t\t\t\t\tMetrics: [3.706985935290396, 0.44008712184536236, 0.3333333333333333, 6.363658983697315]\n"
     ]
    }
   ],
   "source": [
    "print('Best variable combination based on # of difference>10(sellout 75%): ',min(performance.items(), key=lambda x: x[1][2])[0],'\\n','\\t\\t\\t\\t\\tMetrics:',\n",
    "      min(performance.items(), key=lambda x: x[1][2])[1])"
   ]
  },
  {
   "cell_type": "code",
   "execution_count": 57,
   "metadata": {
    "scrolled": true
   },
   "outputs": [
    {
     "name": "stdout",
     "output_type": "stream",
     "text": [
      "Best variable combination based on # of difference>10(sellout 50%):  ('avg_over_last_3_cycles', 'sellout*2_week_lag') \n",
      " \t\t\t\t\tMetrics: [3.915111180155558, 0.3706868974047716, 0.3333333333333333, 7.825421601204918]\n"
     ]
    }
   ],
   "source": [
    "print('Best variable combination based on # of difference>10(sellout 50%): ',min(performance.items(), key=lambda x: x[1][2])[0],'\\n','\\t\\t\\t\\t\\tMetrics:',\n",
    "      min(performance.items(), key=lambda x: x[1][2])[1])"
   ]
  },
  {
   "cell_type": "code",
   "execution_count": 19,
   "metadata": {
    "scrolled": false
   },
   "outputs": [
    {
     "name": "stdout",
     "output_type": "stream",
     "text": [
      "Best variable combination based on # of difference>10:  ('avg_over_last_3_cycles', 'sellout', 'sellout*2_week_lag') \n",
      " \t\t\t\t\tMetrics: [3.6768766621230053, 0.4197129290412293, 0.3333333333333333, 6.3524486386301415]\n"
     ]
    }
   ],
   "source": [
    "print('Best variable combination based on # of difference>10: ',min(performance.items(), key=lambda x: x[1][2])[0],'\\n','\\t\\t\\t\\t\\tMetrics:',\n",
    "      min(performance.items(), key=lambda x: x[1][2])[1])"
   ]
  },
  {
   "cell_type": "code",
   "execution_count": 13,
   "metadata": {
    "scrolled": false
   },
   "outputs": [
    {
     "data": {
      "text/plain": [
       "[3.5012530856476674, 0.4465036923855397, 0.3333333333333333, 5.421660489652737]"
      ]
     },
     "execution_count": 13,
     "metadata": {},
     "output_type": "execute_result"
    }
   ],
   "source": [
    "performance[('Cycle__2', 'avg_over_last_3_cycles', 'exam', 'last_2_week_sales', 'n_users', 'sellout*2_week_lag', 'week_n')]"
   ]
  },
  {
   "cell_type": "code",
   "execution_count": 134,
   "metadata": {
    "scrolled": true
   },
   "outputs": [
    {
     "data": {
      "text/plain": [
       "[3.412754094184842, 0.4842264523141308, 0.3333333333333333, 5.407145343784352]"
      ]
     },
     "execution_count": 134,
     "metadata": {},
     "output_type": "execute_result"
    }
   ],
   "source": [
    "# 75% threshold with the following features gives the best model performance on Fall data\n",
    "performance[('Cycle__2', 'avg_over_last_3_cycles','exam','last_2_week_sales', 'n_users', 'sellout*2_week_lag')]"
   ]
  },
  {
   "cell_type": "markdown",
   "metadata": {},
   "source": [
    "## Model1: Test with 19Spring"
   ]
  },
  {
   "cell_type": "code",
   "execution_count": 32,
   "metadata": {
    "scrolled": true
   },
   "outputs": [],
   "source": [
    "spring = pickle.load(open('final_dataset_19spring_week8.p',\"rb\" ))"
   ]
  },
  {
   "cell_type": "code",
   "execution_count": 33,
   "metadata": {
    "scrolled": true
   },
   "outputs": [],
   "source": [
    "sellout = pd.read_pickle('C:/Users/Baoyp/Documents/2019 Spring/GU project/sellout/sellout_df_spring19.pkl')\n",
    "sellout = sellout[sellout['week_n']!=0]\n",
    "sellout['ref_week_n'] = sellout['week_n']+2\n",
    "del sellout['week_n']\n",
    "sellout = sellout.rename(columns={'ref_week_n':'week_n'})\n",
    "#sellout = sellout[sellout['week_n']!=8]\n",
    "del sellout['sellout']"
   ]
  },
  {
   "cell_type": "code",
   "execution_count": 34,
   "metadata": {},
   "outputs": [],
   "source": [
    "spring['cycle_n'] = np.where(spring['Cycle__1']==1,1, np.where(spring['Cycle__2']==1,2,3))\n",
    "spring = pd.merge(spring,sellout,how='left')\n",
    "spring = spring.drop('cycle_n',axis=1)\n",
    "spring= spring.rename(columns = {'75_percent':'sellout'})\n",
    "spring['sellout*2_week_lag']=spring['last_2_week_sales']*spring['sellout']\n",
    "spring = spring[['week_n', 'sales', 'last_2_week_sales', 'classes', 'exam', 'sports',\n",
    "       'Cycle__1', 'Cycle__2', 'Cycle__3', 'n_users', 'avg_over_last_3_cycles','sellout','sellout*2_week_lag',\n",
    "       'item_name']]"
   ]
  },
  {
   "cell_type": "code",
   "execution_count": 36,
   "metadata": {
    "scrolled": true
   },
   "outputs": [],
   "source": [
    "del spring['classes']\n",
    "del spring['Cycle__1']"
   ]
  },
  {
   "cell_type": "code",
   "execution_count": 37,
   "metadata": {
    "scrolled": true
   },
   "outputs": [],
   "source": [
    "fall = pickle.load(open('final_dataset_18fall.p',\"rb\"))"
   ]
  },
  {
   "cell_type": "code",
   "execution_count": 38,
   "metadata": {},
   "outputs": [],
   "source": [
    "del fall['classes']\n",
    "del fall['Cycle__1']"
   ]
  },
  {
   "cell_type": "code",
   "execution_count": 43,
   "metadata": {},
   "outputs": [],
   "source": [
    "spring = spring[(spring['week_n']!=7 )& (spring['week_n']!=8)]"
   ]
  },
  {
   "cell_type": "code",
   "execution_count": 44,
   "metadata": {},
   "outputs": [],
   "source": [
    "predictorcols = fall.columns.difference(['sales','item_name'])\n",
    "#['Cycle__2','avg_over_last_3_cycles', 'last_2_week_sales', 'n_users','Cycle__3','sports','week_n','sellout','sellout*2_week_lag']\n",
    "performance = dict()\n",
    "for k in range(1,len(predictorcols)+1):\n",
    "    for variables in itertools.combinations(predictorcols, k):\n",
    "        r2 = []\n",
    "        mae = []\n",
    "        larg10 = []\n",
    "        X = fall[list(variables)]\n",
    "        Y = fall[['sales']]\n",
    "        X_test = spring[list(variables)]\n",
    "        Y_test = spring[['sales']]\n",
    "        model = linear_model.LinearRegression()\n",
    "        model.fit(X,np.ravel(Y))\n",
    "        Y_pred = model.predict(X_test)\n",
    "        mae = mean_absolute_error(np.ravel(Y_test), Y_pred)\n",
    "        r2 = r2_score(np.ravel(Y_test), Y_pred)\n",
    "        larg_than_10 = np.sum(np.absolute(Y_pred - np.ravel(Y_test)) > 10)\n",
    "        performance[variables] = [mae,r2,larg_than_10]"
   ]
  },
  {
   "cell_type": "code",
   "execution_count": null,
   "metadata": {},
   "outputs": [],
   "source": [
    "# Test different sellout thresholds on Spring data: use Fall as train set, Spring as test set"
   ]
  },
  {
   "cell_type": "code",
   "execution_count": 45,
   "metadata": {},
   "outputs": [
    {
     "name": "stdout",
     "output_type": "stream",
     "text": [
      "75%\n",
      "Best variable combination based on mae:  ('Cycle__2', 'avg_over_last_3_cycles', 'exam', 'last_2_week_sales', 'n_users', 'sellout*2_week_lag', 'week_n') \n",
      " \t\t\tMetrics: [3.6832268643859396, 0.4982668365139381, 40]\n",
      "Best variable combination based on R2:  ('Cycle__2', 'avg_over_last_3_cycles', 'exam', 'last_2_week_sales', 'n_users', 'sellout*2_week_lag', 'week_n') \n",
      " \t\t\tMetrics: [3.6832268643859396, 0.4982668365139381, 40]\n",
      "Best variable combination based on # of difference>10:  ('Cycle__2', 'avg_over_last_3_cycles', 'last_2_week_sales') \n",
      " \t\t\t\t\tMetrics: [4.04995484189953, 0.4128283066940581, 20]\n"
     ]
    }
   ],
   "source": [
    "print('75%')\n",
    "print('Best variable combination based on mae: ',min(performance.items(), key=lambda x: x[1][0])[0],'\\n','\\t\\t\\tMetrics:',\n",
    "      min(performance.items(), key=lambda x: x[1][0])[1])\n",
    "\n",
    "print('Best variable combination based on R2: ',max(performance.items(), key=lambda x: x[1][1])[0],'\\n','\\t\\t\\tMetrics:',\n",
    "      max(performance.items(), key=lambda x: x[1][1])[1])\n",
    "\n",
    "print('Best variable combination based on # of difference>10: ',min(performance.items(), key=lambda x: x[1][2])[0],'\\n','\\t\\t\\t\\t\\tMetrics:',\n",
    "      min(performance.items(), key=lambda x: x[1][2])[1])"
   ]
  },
  {
   "cell_type": "code",
   "execution_count": 107,
   "metadata": {},
   "outputs": [
    {
     "name": "stdout",
     "output_type": "stream",
     "text": [
      "50%\n",
      "Best variable combination based on mae:  ('Cycle__2', 'avg_over_last_3_cycles', 'last_2_week_sales', 'n_users', 'Cycle__3', 'week_n', 'sellout*2_week_lag') \n",
      " \t\t\tMetrics: [3.712099080595953, 0.49675474421227794, 50]\n",
      "Best variable combination based on R2:  ('Cycle__2', 'avg_over_last_3_cycles', 'last_2_week_sales', 'n_users', 'Cycle__3') \n",
      " \t\t\tMetrics: [3.721134055632399, 0.4972306159851153, 30]\n",
      "Best variable combination based on # of difference>10:  ('Cycle__2', 'avg_over_last_3_cycles', 'last_2_week_sales') \n",
      " \t\t\t\t\tMetrics: [4.049954841899531, 0.41282830669405823, 20]\n"
     ]
    }
   ],
   "source": [
    "print('50%')\n",
    "print('Best variable combination based on mae: ',min(performance.items(), key=lambda x: x[1][0])[0],'\\n','\\t\\t\\tMetrics:',\n",
    "      min(performance.items(), key=lambda x: x[1][0])[1])\n",
    "\n",
    "print('Best variable combination based on R2: ',max(performance.items(), key=lambda x: x[1][1])[0],'\\n','\\t\\t\\tMetrics:',\n",
    "      max(performance.items(), key=lambda x: x[1][1])[1])\n",
    "\n",
    "print('Best variable combination based on # of difference>10: ',min(performance.items(), key=lambda x: x[1][2])[0],'\\n','\\t\\t\\t\\t\\tMetrics:',\n",
    "      min(performance.items(), key=lambda x: x[1][2])[1])"
   ]
  },
  {
   "cell_type": "markdown",
   "metadata": {},
   "source": [
    "## Model2: All products + Poisson GLM"
   ]
  },
  {
   "cell_type": "code",
   "execution_count": 31,
   "metadata": {},
   "outputs": [],
   "source": [
    "start = time.time()\n",
    "#conduct best subset selection with 4-fold cross validation\n",
    "#store 3 kinds of metrics in perdormance dictionary({variable combination:[metric_1,metric_2,metric_3,mae_of_fold_4]})\n",
    "predictorcols = x_train_1.columns\n",
    "performance = dict()\n",
    "for k in range(1,len(predictorcols)+1):\n",
    "    for variables in itertools.combinations(predictorcols, k):\n",
    "        r2 = []\n",
    "        mae = []\n",
    "        larg10 = []\n",
    "        for i in range(4):\n",
    "            df=x_train[i]\n",
    "            df.exog=x_train[i][list(variables)]\n",
    "            #df.exog = sm.add_constant(df.exog)\n",
    "            df.endog=y_train[i]\n",
    "            poisson_model = sm.GLM(df.endog, df.exog, family=sm.families.Poisson())\n",
    "            poisson_results = poisson_model.fit()\n",
    "            df_test = x_test[i][list(variables)]\n",
    "            #df_test = sm.add_constant(df_test)\n",
    "            y_pred = poisson_results.predict(df_test)\n",
    "            mae_fold = mean_absolute_error(np.ravel(y_test[i]), y_pred)\n",
    "            r2_fold = r2_score(np.ravel(y_test[i]), y_pred)\n",
    "            larg_than_10 = np.sum(np.absolute(y_pred - np.ravel(y_test[i])) > 10)\n",
    "            mae.append(mae_fold)\n",
    "            r2.append(r2_fold)\n",
    "            larg10.append(larg_than_10)\n",
    "        performance[variables] = [np.mean(mae),np.mean(r2),np.mean(larg10),mae_fold]\n",
    "\n",
    "end = time.time()"
   ]
  },
  {
   "cell_type": "markdown",
   "metadata": {},
   "source": [
    "Find the best model according to different kinds of metrics"
   ]
  },
  {
   "cell_type": "markdown",
   "metadata": {},
   "source": [
    "Format of metrics: [mean absolute error, R2, number of difference>10, mae of fold4]\n",
    "\n",
    "(mae for fold 4 is a little bit special due to its larger size.)"
   ]
  },
  {
   "cell_type": "code",
   "execution_count": 33,
   "metadata": {},
   "outputs": [
    {
     "name": "stdout",
     "output_type": "stream",
     "text": [
      "Best variable combination based on mae:  ('Cycle__1', 'avg_over_last_3_cycles', 'classes', 'exam', 'last_2_week_sales', 'n_users') \n",
      " \t\t\tMetrics: [4.120925754243929, 0.422803800089679, 2.5, 5.463406123024092]\n"
     ]
    }
   ],
   "source": [
    "print('Best variable combination based on mae: ',min(performance.items(), key=lambda x: x[1][0])[0],'\\n','\\t\\t\\tMetrics:',\n",
    "      min(performance.items(), key=lambda x: x[1][0])[1])"
   ]
  },
  {
   "cell_type": "code",
   "execution_count": 34,
   "metadata": {},
   "outputs": [
    {
     "name": "stdout",
     "output_type": "stream",
     "text": [
      "Best variable combination based on R2:  ('Cycle__1', 'avg_over_last_3_cycles', 'classes', 'exam', 'last_2_week_sales', 'n_users', 'sports') \n",
      " \t\t\tMetrics: [4.129803936377439, 0.42652371680150414, 2.5, 5.46488118112247]\n"
     ]
    }
   ],
   "source": [
    "print('Best variable combination based on R2: ',max(performance.items(), key=lambda x: x[1][1])[0],'\\n','\\t\\t\\tMetrics:',\n",
    "      max(performance.items(), key=lambda x: x[1][1])[1])"
   ]
  },
  {
   "cell_type": "code",
   "execution_count": 35,
   "metadata": {},
   "outputs": [
    {
     "name": "stdout",
     "output_type": "stream",
     "text": [
      "Best variable combination based on # of difference>10:  ('Cycle__1', 'avg_over_last_3_cycles', 'classes', 'last_2_week_sales', 'n_users') \n",
      " \t\t\t\t\tMetrics: [4.139949132957636, 0.4162859043859951, 2.25, 5.493206470365918]\n"
     ]
    }
   ],
   "source": [
    "print('Best variable combination based on # of difference>10: ',min(performance.items(), key=lambda x: x[1][2])[0],'\\n','\\t\\t\\t\\t\\tMetrics:',\n",
    "      min(performance.items(), key=lambda x: x[1][2])[1])"
   ]
  },
  {
   "cell_type": "markdown",
   "metadata": {},
   "source": [
    "Compared with linear model, the optimal mae is larger, R^2 is samller. So linear model is better"
   ]
  },
  {
   "cell_type": "markdown",
   "metadata": {},
   "source": [
    "## Model3: Individual product + Linear Model"
   ]
  },
  {
   "cell_type": "code",
   "execution_count": 36,
   "metadata": {
    "scrolled": true
   },
   "outputs": [],
   "source": [
    "#split training data to four folds\n",
    "def split_kfold(data):\n",
    "    train_1 = data[(data['week_n']==3)|(data['week_n']==4)|(data['week_n']==5)|(data['week_n']==6)|(data['week_n']==7)]\n",
    "    train_2 = pd.concat([train_1,data[(data['week_n']==8)]])\n",
    "    train_3 = pd.concat([train_2,data[(data['week_n']==9)]])\n",
    "    train_4 = pd.concat([train_3,data[(data['week_n']==10)]])\n",
    "    test_1 = data[(data['week_n']==8)]\n",
    "    test_2 = data[(data['week_n']==9)]\n",
    "    test_3 = data[(data['week_n']==10)]\n",
    "    test_4 = data[(data['week_n']==11)|(data['week_n']==13)|(data['week_n']==15)]\n",
    "    x_train_1 = train_1[train_1.columns.difference(['sales','item_name'])]\n",
    "    x_train_2 = train_2[train_2.columns.difference(['sales','item_name'])]\n",
    "    x_train_3 = train_3[train_3.columns.difference(['sales','item_name'])]\n",
    "    x_train_4 = train_4[train_4.columns.difference(['sales','item_name'])]\n",
    "    x_test_1 = test_1[test_1.columns.difference(['sales','item_name'])]\n",
    "    x_test_2 = test_2[test_2.columns.difference(['sales','item_name'])]\n",
    "    x_test_3 = test_3[test_3.columns.difference(['sales','item_name'])]\n",
    "    x_test_4 = test_4[test_4.columns.difference(['sales','item_name'])]\n",
    "    y_train_1 = train_1[['sales']]\n",
    "    y_train_2 = train_2[['sales']]\n",
    "    y_train_3 = train_3[['sales']]\n",
    "    y_train_4 = train_4[['sales']]\n",
    "    y_test_1 = test_1[['sales']]\n",
    "    y_test_2 = test_2[['sales']]\n",
    "    y_test_3 = test_3[['sales']]\n",
    "    y_test_4 = test_4[['sales']]\n",
    "    x_train = [x_train_1,x_train_2,x_train_3,x_train_4]\n",
    "    y_train = [y_train_1,y_train_2,y_train_3,y_train_4]\n",
    "    x_test = [x_test_1,x_test_2,x_test_3,x_test_4]\n",
    "    y_test = [y_test_1,y_test_2,y_test_3,y_test_4]\n",
    "    return x_train, y_train, x_test, y_test"
   ]
  },
  {
   "cell_type": "code",
   "execution_count": 47,
   "metadata": {},
   "outputs": [],
   "source": [
    "def item_lm(itemname):\n",
    "    data = pickle.load(open('final_dataset_18fall.p',\"rb\"))\n",
    "    data = data[data['item_name']==itemname]\n",
    "    x_train, y_train, x_test, y_test = split_kfold(data)\n",
    "    predictorcols = x_train[0].columns\n",
    "    performance = dict()\n",
    "    for k in range(1,len(predictorcols)+1):\n",
    "        for variables in itertools.combinations(predictorcols, k):\n",
    "            r2 = []\n",
    "            mae = []\n",
    "            larg10 = []\n",
    "            for i in range(4):\n",
    "                model = linear_model.LinearRegression()\n",
    "                model.fit(x_train[i][list(variables)],np.ravel(y_train[i]))\n",
    "                y_pred = model.predict(x_test[i][list(variables)])\n",
    "                mae_fold = mean_absolute_error(np.ravel(y_test[i]), y_pred)\n",
    "                r2_fold = r2_score(np.ravel(y_test[i]), y_pred)\n",
    "                larg_than_10 = np.sum(np.absolute(y_pred - np.ravel(y_test[i])) > 10)\n",
    "                mae.append(mae_fold)\n",
    "                r2.append(r2_fold)\n",
    "                larg10.append(larg_than_10)\n",
    "            performance[variables] = [np.mean(mae),np.mean(r2),np.mean(larg10),mae_fold]\n",
    "    return performance"
   ]
  },
  {
   "cell_type": "code",
   "execution_count": 54,
   "metadata": {},
   "outputs": [],
   "source": [
    "item_names = ['Penne alla Vodka', 'Grilled Chicken Bowl','Mac and Cheese','Grilled Chicken Tenders','Seared Steak Bowl','Chicken Bacon Club',\n",
    "             'BBQ Pulled Pork Plate','Chicken Parm','Smashed Cheeseburger','Build-Your-Own Chicken Tacos']\n",
    "performances = { i:item_lm(i) for i in item_names}"
   ]
  },
  {
   "cell_type": "code",
   "execution_count": 55,
   "metadata": {},
   "outputs": [],
   "source": [
    "top10_mae = [min(performances[i].items(), key=lambda x: x[1][0])[1][0] for i in item_names]"
   ]
  },
  {
   "cell_type": "code",
   "execution_count": 58,
   "metadata": {
    "scrolled": true
   },
   "outputs": [
    {
     "data": {
      "text/plain": [
       "3.09964202269961"
      ]
     },
     "execution_count": 58,
     "metadata": {},
     "output_type": "execute_result"
    }
   ],
   "source": [
    "np.mean(top10_mae)"
   ]
  },
  {
   "cell_type": "code",
   "execution_count": 63,
   "metadata": {},
   "outputs": [
    {
     "data": {
      "text/plain": [
       "-0.5288154675532135"
      ]
     },
     "execution_count": 63,
     "metadata": {},
     "output_type": "execute_result"
    }
   ],
   "source": [
    "top10_r2 = [max(performances[i].items(), key=lambda x: x[1][1])[1][1] for i in item_names]\n",
    "np.mean(top10_r2)"
   ]
  },
  {
   "cell_type": "markdown",
   "metadata": {},
   "source": [
    "## Model4: Individual product + Poisson GLM"
   ]
  },
  {
   "cell_type": "code",
   "execution_count": 65,
   "metadata": {},
   "outputs": [],
   "source": [
    "def item_poisson(itemname):\n",
    "    data = pickle.load(open('final_dataset_18fall.p',\"rb\"))\n",
    "    data = data[data['item_name']==itemname]\n",
    "    x_train, y_train, x_test, y_test = split_kfold(data)\n",
    "    predictorcols = x_train[0].columns\n",
    "    performance = dict()\n",
    "    for k in range(1,len(predictorcols)+1):\n",
    "        for variables in itertools.combinations(predictorcols, k):\n",
    "            r2 = []\n",
    "            mae = []\n",
    "            larg10 = []\n",
    "            for i in range(4):\n",
    "                df=x_train[i]\n",
    "                df.exog=x_train[i][list(variables)]\n",
    "                #df.exog = sm.add_constant(df.exog)\n",
    "                df.endog=y_train[i]\n",
    "                poisson_model = sm.GLM(df.endog, df.exog, family=sm.families.Poisson())\n",
    "                poisson_results = poisson_model.fit()\n",
    "                df_test = x_test[i][list(variables)]\n",
    "                #df_test = sm.add_constant(df_test)\n",
    "                y_pred = poisson_results.predict(df_test)\n",
    "                mae_fold = mean_absolute_error(np.ravel(y_test[i]), y_pred)\n",
    "                r2_fold = r2_score(np.ravel(y_test[i]), y_pred)\n",
    "                larg_than_10 = np.sum(np.absolute(y_pred - np.ravel(y_test[i])) > 10)\n",
    "                mae.append(mae_fold)\n",
    "                r2.append(r2_fold)\n",
    "                larg10.append(larg_than_10)\n",
    "            performance[variables] = [np.mean(mae),np.mean(r2),np.mean(larg10),mae_fold]\n",
    "    return performance"
   ]
  },
  {
   "cell_type": "code",
   "execution_count": 66,
   "metadata": {},
   "outputs": [
    {
     "name": "stderr",
     "output_type": "stream",
     "text": [
      "C:\\Users\\Baoyp\\Anaconda3\\lib\\site-packages\\ipykernel_launcher.py:14: UserWarning: Pandas doesn't allow columns to be created via a new attribute name - see https://pandas.pydata.org/pandas-docs/stable/indexing.html#attribute-access\n",
      "  \n",
      "C:\\Users\\Baoyp\\Anaconda3\\lib\\site-packages\\ipykernel_launcher.py:16: UserWarning: Pandas doesn't allow columns to be created via a new attribute name - see https://pandas.pydata.org/pandas-docs/stable/indexing.html#attribute-access\n",
      "  app.launch_new_instance()\n",
      "C:\\Users\\Baoyp\\Anaconda3\\lib\\site-packages\\ipykernel_launcher.py:14: UserWarning: Pandas doesn't allow columns to be created via a new attribute name - see https://pandas.pydata.org/pandas-docs/stable/indexing.html#attribute-access\n",
      "  \n",
      "C:\\Users\\Baoyp\\Anaconda3\\lib\\site-packages\\ipykernel_launcher.py:16: UserWarning: Pandas doesn't allow columns to be created via a new attribute name - see https://pandas.pydata.org/pandas-docs/stable/indexing.html#attribute-access\n",
      "  app.launch_new_instance()\n",
      "C:\\Users\\Baoyp\\Anaconda3\\lib\\site-packages\\ipykernel_launcher.py:14: UserWarning: Pandas doesn't allow columns to be created via a new attribute name - see https://pandas.pydata.org/pandas-docs/stable/indexing.html#attribute-access\n",
      "  \n",
      "C:\\Users\\Baoyp\\Anaconda3\\lib\\site-packages\\ipykernel_launcher.py:16: UserWarning: Pandas doesn't allow columns to be created via a new attribute name - see https://pandas.pydata.org/pandas-docs/stable/indexing.html#attribute-access\n",
      "  app.launch_new_instance()\n",
      "C:\\Users\\Baoyp\\Anaconda3\\lib\\site-packages\\ipykernel_launcher.py:14: UserWarning: Pandas doesn't allow columns to be created via a new attribute name - see https://pandas.pydata.org/pandas-docs/stable/indexing.html#attribute-access\n",
      "  \n",
      "C:\\Users\\Baoyp\\Anaconda3\\lib\\site-packages\\ipykernel_launcher.py:16: UserWarning: Pandas doesn't allow columns to be created via a new attribute name - see https://pandas.pydata.org/pandas-docs/stable/indexing.html#attribute-access\n",
      "  app.launch_new_instance()\n",
      "C:\\Users\\Baoyp\\Anaconda3\\lib\\site-packages\\ipykernel_launcher.py:14: UserWarning: Pandas doesn't allow columns to be created via a new attribute name - see https://pandas.pydata.org/pandas-docs/stable/indexing.html#attribute-access\n",
      "  \n",
      "C:\\Users\\Baoyp\\Anaconda3\\lib\\site-packages\\ipykernel_launcher.py:16: UserWarning: Pandas doesn't allow columns to be created via a new attribute name - see https://pandas.pydata.org/pandas-docs/stable/indexing.html#attribute-access\n",
      "  app.launch_new_instance()\n",
      "C:\\Users\\Baoyp\\Anaconda3\\lib\\site-packages\\ipykernel_launcher.py:14: UserWarning: Pandas doesn't allow columns to be created via a new attribute name - see https://pandas.pydata.org/pandas-docs/stable/indexing.html#attribute-access\n",
      "  \n",
      "C:\\Users\\Baoyp\\Anaconda3\\lib\\site-packages\\ipykernel_launcher.py:16: UserWarning: Pandas doesn't allow columns to be created via a new attribute name - see https://pandas.pydata.org/pandas-docs/stable/indexing.html#attribute-access\n",
      "  app.launch_new_instance()\n",
      "C:\\Users\\Baoyp\\Anaconda3\\lib\\site-packages\\ipykernel_launcher.py:14: UserWarning: Pandas doesn't allow columns to be created via a new attribute name - see https://pandas.pydata.org/pandas-docs/stable/indexing.html#attribute-access\n",
      "  \n",
      "C:\\Users\\Baoyp\\Anaconda3\\lib\\site-packages\\ipykernel_launcher.py:16: UserWarning: Pandas doesn't allow columns to be created via a new attribute name - see https://pandas.pydata.org/pandas-docs/stable/indexing.html#attribute-access\n",
      "  app.launch_new_instance()\n",
      "C:\\Users\\Baoyp\\Anaconda3\\lib\\site-packages\\ipykernel_launcher.py:14: UserWarning: Pandas doesn't allow columns to be created via a new attribute name - see https://pandas.pydata.org/pandas-docs/stable/indexing.html#attribute-access\n",
      "  \n",
      "C:\\Users\\Baoyp\\Anaconda3\\lib\\site-packages\\ipykernel_launcher.py:16: UserWarning: Pandas doesn't allow columns to be created via a new attribute name - see https://pandas.pydata.org/pandas-docs/stable/indexing.html#attribute-access\n",
      "  app.launch_new_instance()\n",
      "C:\\Users\\Baoyp\\Anaconda3\\lib\\site-packages\\ipykernel_launcher.py:14: UserWarning: Pandas doesn't allow columns to be created via a new attribute name - see https://pandas.pydata.org/pandas-docs/stable/indexing.html#attribute-access\n",
      "  \n",
      "C:\\Users\\Baoyp\\Anaconda3\\lib\\site-packages\\ipykernel_launcher.py:16: UserWarning: Pandas doesn't allow columns to be created via a new attribute name - see https://pandas.pydata.org/pandas-docs/stable/indexing.html#attribute-access\n",
      "  app.launch_new_instance()\n",
      "C:\\Users\\Baoyp\\Anaconda3\\lib\\site-packages\\ipykernel_launcher.py:14: UserWarning: Pandas doesn't allow columns to be created via a new attribute name - see https://pandas.pydata.org/pandas-docs/stable/indexing.html#attribute-access\n",
      "  \n",
      "C:\\Users\\Baoyp\\Anaconda3\\lib\\site-packages\\ipykernel_launcher.py:16: UserWarning: Pandas doesn't allow columns to be created via a new attribute name - see https://pandas.pydata.org/pandas-docs/stable/indexing.html#attribute-access\n",
      "  app.launch_new_instance()\n",
      "C:\\Users\\Baoyp\\Anaconda3\\lib\\site-packages\\ipykernel_launcher.py:14: UserWarning: Pandas doesn't allow columns to be created via a new attribute name - see https://pandas.pydata.org/pandas-docs/stable/indexing.html#attribute-access\n",
      "  \n",
      "C:\\Users\\Baoyp\\Anaconda3\\lib\\site-packages\\ipykernel_launcher.py:16: UserWarning: Pandas doesn't allow columns to be created via a new attribute name - see https://pandas.pydata.org/pandas-docs/stable/indexing.html#attribute-access\n",
      "  app.launch_new_instance()\n",
      "C:\\Users\\Baoyp\\Anaconda3\\lib\\site-packages\\ipykernel_launcher.py:14: UserWarning: Pandas doesn't allow columns to be created via a new attribute name - see https://pandas.pydata.org/pandas-docs/stable/indexing.html#attribute-access\n",
      "  \n",
      "C:\\Users\\Baoyp\\Anaconda3\\lib\\site-packages\\ipykernel_launcher.py:16: UserWarning: Pandas doesn't allow columns to be created via a new attribute name - see https://pandas.pydata.org/pandas-docs/stable/indexing.html#attribute-access\n",
      "  app.launch_new_instance()\n",
      "C:\\Users\\Baoyp\\Anaconda3\\lib\\site-packages\\ipykernel_launcher.py:14: UserWarning: Pandas doesn't allow columns to be created via a new attribute name - see https://pandas.pydata.org/pandas-docs/stable/indexing.html#attribute-access\n",
      "  \n",
      "C:\\Users\\Baoyp\\Anaconda3\\lib\\site-packages\\ipykernel_launcher.py:16: UserWarning: Pandas doesn't allow columns to be created via a new attribute name - see https://pandas.pydata.org/pandas-docs/stable/indexing.html#attribute-access\n",
      "  app.launch_new_instance()\n",
      "C:\\Users\\Baoyp\\Anaconda3\\lib\\site-packages\\ipykernel_launcher.py:14: UserWarning: Pandas doesn't allow columns to be created via a new attribute name - see https://pandas.pydata.org/pandas-docs/stable/indexing.html#attribute-access\n",
      "  \n",
      "C:\\Users\\Baoyp\\Anaconda3\\lib\\site-packages\\ipykernel_launcher.py:16: UserWarning: Pandas doesn't allow columns to be created via a new attribute name - see https://pandas.pydata.org/pandas-docs/stable/indexing.html#attribute-access\n",
      "  app.launch_new_instance()\n",
      "C:\\Users\\Baoyp\\Anaconda3\\lib\\site-packages\\ipykernel_launcher.py:14: UserWarning: Pandas doesn't allow columns to be created via a new attribute name - see https://pandas.pydata.org/pandas-docs/stable/indexing.html#attribute-access\n",
      "  \n",
      "C:\\Users\\Baoyp\\Anaconda3\\lib\\site-packages\\ipykernel_launcher.py:16: UserWarning: Pandas doesn't allow columns to be created via a new attribute name - see https://pandas.pydata.org/pandas-docs/stable/indexing.html#attribute-access\n",
      "  app.launch_new_instance()\n",
      "C:\\Users\\Baoyp\\Anaconda3\\lib\\site-packages\\ipykernel_launcher.py:14: UserWarning: Pandas doesn't allow columns to be created via a new attribute name - see https://pandas.pydata.org/pandas-docs/stable/indexing.html#attribute-access\n",
      "  \n",
      "C:\\Users\\Baoyp\\Anaconda3\\lib\\site-packages\\ipykernel_launcher.py:16: UserWarning: Pandas doesn't allow columns to be created via a new attribute name - see https://pandas.pydata.org/pandas-docs/stable/indexing.html#attribute-access\n",
      "  app.launch_new_instance()\n",
      "C:\\Users\\Baoyp\\Anaconda3\\lib\\site-packages\\ipykernel_launcher.py:14: UserWarning: Pandas doesn't allow columns to be created via a new attribute name - see https://pandas.pydata.org/pandas-docs/stable/indexing.html#attribute-access\n",
      "  \n",
      "C:\\Users\\Baoyp\\Anaconda3\\lib\\site-packages\\ipykernel_launcher.py:16: UserWarning: Pandas doesn't allow columns to be created via a new attribute name - see https://pandas.pydata.org/pandas-docs/stable/indexing.html#attribute-access\n",
      "  app.launch_new_instance()\n",
      "C:\\Users\\Baoyp\\Anaconda3\\lib\\site-packages\\ipykernel_launcher.py:14: UserWarning: Pandas doesn't allow columns to be created via a new attribute name - see https://pandas.pydata.org/pandas-docs/stable/indexing.html#attribute-access\n",
      "  \n",
      "C:\\Users\\Baoyp\\Anaconda3\\lib\\site-packages\\ipykernel_launcher.py:16: UserWarning: Pandas doesn't allow columns to be created via a new attribute name - see https://pandas.pydata.org/pandas-docs/stable/indexing.html#attribute-access\n",
      "  app.launch_new_instance()\n",
      "C:\\Users\\Baoyp\\Anaconda3\\lib\\site-packages\\ipykernel_launcher.py:14: UserWarning: Pandas doesn't allow columns to be created via a new attribute name - see https://pandas.pydata.org/pandas-docs/stable/indexing.html#attribute-access\n",
      "  \n",
      "C:\\Users\\Baoyp\\Anaconda3\\lib\\site-packages\\ipykernel_launcher.py:16: UserWarning: Pandas doesn't allow columns to be created via a new attribute name - see https://pandas.pydata.org/pandas-docs/stable/indexing.html#attribute-access\n",
      "  app.launch_new_instance()\n",
      "C:\\Users\\Baoyp\\Anaconda3\\lib\\site-packages\\ipykernel_launcher.py:14: UserWarning: Pandas doesn't allow columns to be created via a new attribute name - see https://pandas.pydata.org/pandas-docs/stable/indexing.html#attribute-access\n",
      "  \n",
      "C:\\Users\\Baoyp\\Anaconda3\\lib\\site-packages\\ipykernel_launcher.py:16: UserWarning: Pandas doesn't allow columns to be created via a new attribute name - see https://pandas.pydata.org/pandas-docs/stable/indexing.html#attribute-access\n",
      "  app.launch_new_instance()\n"
     ]
    },
    {
     "name": "stderr",
     "output_type": "stream",
     "text": [
      "C:\\Users\\Baoyp\\Anaconda3\\lib\\site-packages\\ipykernel_launcher.py:14: UserWarning: Pandas doesn't allow columns to be created via a new attribute name - see https://pandas.pydata.org/pandas-docs/stable/indexing.html#attribute-access\n",
      "  \n",
      "C:\\Users\\Baoyp\\Anaconda3\\lib\\site-packages\\ipykernel_launcher.py:16: UserWarning: Pandas doesn't allow columns to be created via a new attribute name - see https://pandas.pydata.org/pandas-docs/stable/indexing.html#attribute-access\n",
      "  app.launch_new_instance()\n",
      "C:\\Users\\Baoyp\\Anaconda3\\lib\\site-packages\\ipykernel_launcher.py:14: UserWarning: Pandas doesn't allow columns to be created via a new attribute name - see https://pandas.pydata.org/pandas-docs/stable/indexing.html#attribute-access\n",
      "  \n",
      "C:\\Users\\Baoyp\\Anaconda3\\lib\\site-packages\\ipykernel_launcher.py:16: UserWarning: Pandas doesn't allow columns to be created via a new attribute name - see https://pandas.pydata.org/pandas-docs/stable/indexing.html#attribute-access\n",
      "  app.launch_new_instance()\n",
      "C:\\Users\\Baoyp\\Anaconda3\\lib\\site-packages\\ipykernel_launcher.py:14: UserWarning: Pandas doesn't allow columns to be created via a new attribute name - see https://pandas.pydata.org/pandas-docs/stable/indexing.html#attribute-access\n",
      "  \n",
      "C:\\Users\\Baoyp\\Anaconda3\\lib\\site-packages\\ipykernel_launcher.py:16: UserWarning: Pandas doesn't allow columns to be created via a new attribute name - see https://pandas.pydata.org/pandas-docs/stable/indexing.html#attribute-access\n",
      "  app.launch_new_instance()\n",
      "C:\\Users\\Baoyp\\Anaconda3\\lib\\site-packages\\ipykernel_launcher.py:14: UserWarning: Pandas doesn't allow columns to be created via a new attribute name - see https://pandas.pydata.org/pandas-docs/stable/indexing.html#attribute-access\n",
      "  \n",
      "C:\\Users\\Baoyp\\Anaconda3\\lib\\site-packages\\ipykernel_launcher.py:16: UserWarning: Pandas doesn't allow columns to be created via a new attribute name - see https://pandas.pydata.org/pandas-docs/stable/indexing.html#attribute-access\n",
      "  app.launch_new_instance()\n",
      "C:\\Users\\Baoyp\\Anaconda3\\lib\\site-packages\\ipykernel_launcher.py:14: UserWarning: Pandas doesn't allow columns to be created via a new attribute name - see https://pandas.pydata.org/pandas-docs/stable/indexing.html#attribute-access\n",
      "  \n",
      "C:\\Users\\Baoyp\\Anaconda3\\lib\\site-packages\\ipykernel_launcher.py:16: UserWarning: Pandas doesn't allow columns to be created via a new attribute name - see https://pandas.pydata.org/pandas-docs/stable/indexing.html#attribute-access\n",
      "  app.launch_new_instance()\n",
      "C:\\Users\\Baoyp\\Anaconda3\\lib\\site-packages\\ipykernel_launcher.py:14: UserWarning: Pandas doesn't allow columns to be created via a new attribute name - see https://pandas.pydata.org/pandas-docs/stable/indexing.html#attribute-access\n",
      "  \n",
      "C:\\Users\\Baoyp\\Anaconda3\\lib\\site-packages\\ipykernel_launcher.py:16: UserWarning: Pandas doesn't allow columns to be created via a new attribute name - see https://pandas.pydata.org/pandas-docs/stable/indexing.html#attribute-access\n",
      "  app.launch_new_instance()\n",
      "C:\\Users\\Baoyp\\Anaconda3\\lib\\site-packages\\ipykernel_launcher.py:14: UserWarning: Pandas doesn't allow columns to be created via a new attribute name - see https://pandas.pydata.org/pandas-docs/stable/indexing.html#attribute-access\n",
      "  \n",
      "C:\\Users\\Baoyp\\Anaconda3\\lib\\site-packages\\ipykernel_launcher.py:16: UserWarning: Pandas doesn't allow columns to be created via a new attribute name - see https://pandas.pydata.org/pandas-docs/stable/indexing.html#attribute-access\n",
      "  app.launch_new_instance()\n",
      "C:\\Users\\Baoyp\\Anaconda3\\lib\\site-packages\\ipykernel_launcher.py:14: UserWarning: Pandas doesn't allow columns to be created via a new attribute name - see https://pandas.pydata.org/pandas-docs/stable/indexing.html#attribute-access\n",
      "  \n",
      "C:\\Users\\Baoyp\\Anaconda3\\lib\\site-packages\\ipykernel_launcher.py:16: UserWarning: Pandas doesn't allow columns to be created via a new attribute name - see https://pandas.pydata.org/pandas-docs/stable/indexing.html#attribute-access\n",
      "  app.launch_new_instance()\n",
      "C:\\Users\\Baoyp\\Anaconda3\\lib\\site-packages\\ipykernel_launcher.py:14: UserWarning: Pandas doesn't allow columns to be created via a new attribute name - see https://pandas.pydata.org/pandas-docs/stable/indexing.html#attribute-access\n",
      "  \n",
      "C:\\Users\\Baoyp\\Anaconda3\\lib\\site-packages\\ipykernel_launcher.py:16: UserWarning: Pandas doesn't allow columns to be created via a new attribute name - see https://pandas.pydata.org/pandas-docs/stable/indexing.html#attribute-access\n",
      "  app.launch_new_instance()\n",
      "C:\\Users\\Baoyp\\Anaconda3\\lib\\site-packages\\ipykernel_launcher.py:14: UserWarning: Pandas doesn't allow columns to be created via a new attribute name - see https://pandas.pydata.org/pandas-docs/stable/indexing.html#attribute-access\n",
      "  \n",
      "C:\\Users\\Baoyp\\Anaconda3\\lib\\site-packages\\ipykernel_launcher.py:16: UserWarning: Pandas doesn't allow columns to be created via a new attribute name - see https://pandas.pydata.org/pandas-docs/stable/indexing.html#attribute-access\n",
      "  app.launch_new_instance()\n",
      "C:\\Users\\Baoyp\\Anaconda3\\lib\\site-packages\\ipykernel_launcher.py:14: UserWarning: Pandas doesn't allow columns to be created via a new attribute name - see https://pandas.pydata.org/pandas-docs/stable/indexing.html#attribute-access\n",
      "  \n",
      "C:\\Users\\Baoyp\\Anaconda3\\lib\\site-packages\\ipykernel_launcher.py:16: UserWarning: Pandas doesn't allow columns to be created via a new attribute name - see https://pandas.pydata.org/pandas-docs/stable/indexing.html#attribute-access\n",
      "  app.launch_new_instance()\n",
      "C:\\Users\\Baoyp\\Anaconda3\\lib\\site-packages\\ipykernel_launcher.py:14: UserWarning: Pandas doesn't allow columns to be created via a new attribute name - see https://pandas.pydata.org/pandas-docs/stable/indexing.html#attribute-access\n",
      "  \n",
      "C:\\Users\\Baoyp\\Anaconda3\\lib\\site-packages\\ipykernel_launcher.py:16: UserWarning: Pandas doesn't allow columns to be created via a new attribute name - see https://pandas.pydata.org/pandas-docs/stable/indexing.html#attribute-access\n",
      "  app.launch_new_instance()\n",
      "C:\\Users\\Baoyp\\Anaconda3\\lib\\site-packages\\ipykernel_launcher.py:14: UserWarning: Pandas doesn't allow columns to be created via a new attribute name - see https://pandas.pydata.org/pandas-docs/stable/indexing.html#attribute-access\n",
      "  \n",
      "C:\\Users\\Baoyp\\Anaconda3\\lib\\site-packages\\ipykernel_launcher.py:16: UserWarning: Pandas doesn't allow columns to be created via a new attribute name - see https://pandas.pydata.org/pandas-docs/stable/indexing.html#attribute-access\n",
      "  app.launch_new_instance()\n",
      "C:\\Users\\Baoyp\\Anaconda3\\lib\\site-packages\\ipykernel_launcher.py:14: UserWarning: Pandas doesn't allow columns to be created via a new attribute name - see https://pandas.pydata.org/pandas-docs/stable/indexing.html#attribute-access\n",
      "  \n",
      "C:\\Users\\Baoyp\\Anaconda3\\lib\\site-packages\\ipykernel_launcher.py:16: UserWarning: Pandas doesn't allow columns to be created via a new attribute name - see https://pandas.pydata.org/pandas-docs/stable/indexing.html#attribute-access\n",
      "  app.launch_new_instance()\n",
      "C:\\Users\\Baoyp\\Anaconda3\\lib\\site-packages\\ipykernel_launcher.py:14: UserWarning: Pandas doesn't allow columns to be created via a new attribute name - see https://pandas.pydata.org/pandas-docs/stable/indexing.html#attribute-access\n",
      "  \n",
      "C:\\Users\\Baoyp\\Anaconda3\\lib\\site-packages\\ipykernel_launcher.py:16: UserWarning: Pandas doesn't allow columns to be created via a new attribute name - see https://pandas.pydata.org/pandas-docs/stable/indexing.html#attribute-access\n",
      "  app.launch_new_instance()\n",
      "C:\\Users\\Baoyp\\Anaconda3\\lib\\site-packages\\ipykernel_launcher.py:14: UserWarning: Pandas doesn't allow columns to be created via a new attribute name - see https://pandas.pydata.org/pandas-docs/stable/indexing.html#attribute-access\n",
      "  \n",
      "C:\\Users\\Baoyp\\Anaconda3\\lib\\site-packages\\ipykernel_launcher.py:16: UserWarning: Pandas doesn't allow columns to be created via a new attribute name - see https://pandas.pydata.org/pandas-docs/stable/indexing.html#attribute-access\n",
      "  app.launch_new_instance()\n",
      "C:\\Users\\Baoyp\\Anaconda3\\lib\\site-packages\\ipykernel_launcher.py:14: UserWarning: Pandas doesn't allow columns to be created via a new attribute name - see https://pandas.pydata.org/pandas-docs/stable/indexing.html#attribute-access\n",
      "  \n",
      "C:\\Users\\Baoyp\\Anaconda3\\lib\\site-packages\\ipykernel_launcher.py:16: UserWarning: Pandas doesn't allow columns to be created via a new attribute name - see https://pandas.pydata.org/pandas-docs/stable/indexing.html#attribute-access\n",
      "  app.launch_new_instance()\n",
      "C:\\Users\\Baoyp\\Anaconda3\\lib\\site-packages\\ipykernel_launcher.py:14: UserWarning: Pandas doesn't allow columns to be created via a new attribute name - see https://pandas.pydata.org/pandas-docs/stable/indexing.html#attribute-access\n",
      "  \n",
      "C:\\Users\\Baoyp\\Anaconda3\\lib\\site-packages\\ipykernel_launcher.py:16: UserWarning: Pandas doesn't allow columns to be created via a new attribute name - see https://pandas.pydata.org/pandas-docs/stable/indexing.html#attribute-access\n",
      "  app.launch_new_instance()\n",
      "C:\\Users\\Baoyp\\Anaconda3\\lib\\site-packages\\ipykernel_launcher.py:14: UserWarning: Pandas doesn't allow columns to be created via a new attribute name - see https://pandas.pydata.org/pandas-docs/stable/indexing.html#attribute-access\n",
      "  \n",
      "C:\\Users\\Baoyp\\Anaconda3\\lib\\site-packages\\ipykernel_launcher.py:16: UserWarning: Pandas doesn't allow columns to be created via a new attribute name - see https://pandas.pydata.org/pandas-docs/stable/indexing.html#attribute-access\n",
      "  app.launch_new_instance()\n",
      "C:\\Users\\Baoyp\\Anaconda3\\lib\\site-packages\\ipykernel_launcher.py:14: UserWarning: Pandas doesn't allow columns to be created via a new attribute name - see https://pandas.pydata.org/pandas-docs/stable/indexing.html#attribute-access\n",
      "  \n",
      "C:\\Users\\Baoyp\\Anaconda3\\lib\\site-packages\\ipykernel_launcher.py:16: UserWarning: Pandas doesn't allow columns to be created via a new attribute name - see https://pandas.pydata.org/pandas-docs/stable/indexing.html#attribute-access\n",
      "  app.launch_new_instance()\n"
     ]
    },
    {
     "name": "stderr",
     "output_type": "stream",
     "text": [
      "C:\\Users\\Baoyp\\Anaconda3\\lib\\site-packages\\statsmodels\\regression\\_tools.py:99: RuntimeWarning: divide by zero encountered in double_scalars\n",
      "  scale = np.dot(wresid, wresid) / df_resid\n"
     ]
    },
    {
     "ename": "PerfectSeparationError",
     "evalue": "Perfect separation detected, results not available",
     "output_type": "error",
     "traceback": [
      "\u001b[1;31m---------------------------------------------------------------------------\u001b[0m",
      "\u001b[1;31mPerfectSeparationError\u001b[0m                    Traceback (most recent call last)",
      "\u001b[1;32m<ipython-input-66-1dab5639dced>\u001b[0m in \u001b[0;36m<module>\u001b[1;34m\u001b[0m\n\u001b[0;32m      1\u001b[0m item_names = ['Penne alla Vodka', 'Grilled Chicken Bowl','Mac and Cheese','Grilled Chicken Tenders','Seared Steak Bowl','Chicken Bacon Club',\n\u001b[0;32m      2\u001b[0m              'BBQ Pulled Pork Plate','Chicken Parm','Smashed Cheeseburger','Build-Your-Own Chicken Tacos']\n\u001b[1;32m----> 3\u001b[1;33m \u001b[0mperformances\u001b[0m \u001b[1;33m=\u001b[0m \u001b[1;33m{\u001b[0m \u001b[0mi\u001b[0m\u001b[1;33m:\u001b[0m\u001b[0mitem_poisson\u001b[0m\u001b[1;33m(\u001b[0m\u001b[0mi\u001b[0m\u001b[1;33m)\u001b[0m \u001b[1;32mfor\u001b[0m \u001b[0mi\u001b[0m \u001b[1;32min\u001b[0m \u001b[0mitem_names\u001b[0m\u001b[1;33m}\u001b[0m\u001b[1;33m\u001b[0m\u001b[1;33m\u001b[0m\u001b[0m\n\u001b[0m",
      "\u001b[1;32m<ipython-input-66-1dab5639dced>\u001b[0m in \u001b[0;36m<dictcomp>\u001b[1;34m(.0)\u001b[0m\n\u001b[0;32m      1\u001b[0m item_names = ['Penne alla Vodka', 'Grilled Chicken Bowl','Mac and Cheese','Grilled Chicken Tenders','Seared Steak Bowl','Chicken Bacon Club',\n\u001b[0;32m      2\u001b[0m              'BBQ Pulled Pork Plate','Chicken Parm','Smashed Cheeseburger','Build-Your-Own Chicken Tacos']\n\u001b[1;32m----> 3\u001b[1;33m \u001b[0mperformances\u001b[0m \u001b[1;33m=\u001b[0m \u001b[1;33m{\u001b[0m \u001b[0mi\u001b[0m\u001b[1;33m:\u001b[0m\u001b[0mitem_poisson\u001b[0m\u001b[1;33m(\u001b[0m\u001b[0mi\u001b[0m\u001b[1;33m)\u001b[0m \u001b[1;32mfor\u001b[0m \u001b[0mi\u001b[0m \u001b[1;32min\u001b[0m \u001b[0mitem_names\u001b[0m\u001b[1;33m}\u001b[0m\u001b[1;33m\u001b[0m\u001b[1;33m\u001b[0m\u001b[0m\n\u001b[0m",
      "\u001b[1;32m<ipython-input-65-b093e63cfbbc>\u001b[0m in \u001b[0;36mitem_poisson\u001b[1;34m(itemname)\u001b[0m\n\u001b[0;32m     16\u001b[0m                 \u001b[0mdf\u001b[0m\u001b[1;33m.\u001b[0m\u001b[0mendog\u001b[0m\u001b[1;33m=\u001b[0m\u001b[0my_train\u001b[0m\u001b[1;33m[\u001b[0m\u001b[0mi\u001b[0m\u001b[1;33m]\u001b[0m\u001b[1;33m\u001b[0m\u001b[1;33m\u001b[0m\u001b[0m\n\u001b[0;32m     17\u001b[0m                 \u001b[0mpoisson_model\u001b[0m \u001b[1;33m=\u001b[0m \u001b[0msm\u001b[0m\u001b[1;33m.\u001b[0m\u001b[0mGLM\u001b[0m\u001b[1;33m(\u001b[0m\u001b[0mdf\u001b[0m\u001b[1;33m.\u001b[0m\u001b[0mendog\u001b[0m\u001b[1;33m,\u001b[0m \u001b[0mdf\u001b[0m\u001b[1;33m.\u001b[0m\u001b[0mexog\u001b[0m\u001b[1;33m,\u001b[0m \u001b[0mfamily\u001b[0m\u001b[1;33m=\u001b[0m\u001b[0msm\u001b[0m\u001b[1;33m.\u001b[0m\u001b[0mfamilies\u001b[0m\u001b[1;33m.\u001b[0m\u001b[0mPoisson\u001b[0m\u001b[1;33m(\u001b[0m\u001b[1;33m)\u001b[0m\u001b[1;33m)\u001b[0m\u001b[1;33m\u001b[0m\u001b[1;33m\u001b[0m\u001b[0m\n\u001b[1;32m---> 18\u001b[1;33m                 \u001b[0mpoisson_results\u001b[0m \u001b[1;33m=\u001b[0m \u001b[0mpoisson_model\u001b[0m\u001b[1;33m.\u001b[0m\u001b[0mfit\u001b[0m\u001b[1;33m(\u001b[0m\u001b[1;33m)\u001b[0m\u001b[1;33m\u001b[0m\u001b[1;33m\u001b[0m\u001b[0m\n\u001b[0m\u001b[0;32m     19\u001b[0m                 \u001b[0mdf_test\u001b[0m \u001b[1;33m=\u001b[0m \u001b[0mx_test\u001b[0m\u001b[1;33m[\u001b[0m\u001b[0mi\u001b[0m\u001b[1;33m]\u001b[0m\u001b[1;33m[\u001b[0m\u001b[0mlist\u001b[0m\u001b[1;33m(\u001b[0m\u001b[0mvariables\u001b[0m\u001b[1;33m)\u001b[0m\u001b[1;33m]\u001b[0m\u001b[1;33m\u001b[0m\u001b[1;33m\u001b[0m\u001b[0m\n\u001b[0;32m     20\u001b[0m                 \u001b[1;31m#df_test = sm.add_constant(df_test)\u001b[0m\u001b[1;33m\u001b[0m\u001b[1;33m\u001b[0m\u001b[1;33m\u001b[0m\u001b[0m\n",
      "\u001b[1;32m~\\Anaconda3\\lib\\site-packages\\statsmodels\\genmod\\generalized_linear_model.py\u001b[0m in \u001b[0;36mfit\u001b[1;34m(self, start_params, maxiter, method, tol, scale, cov_type, cov_kwds, use_t, full_output, disp, max_start_irls, **kwargs)\u001b[0m\n\u001b[0;32m   1010\u001b[0m             return self._fit_irls(start_params=start_params, maxiter=maxiter,\n\u001b[0;32m   1011\u001b[0m                                   \u001b[0mtol\u001b[0m\u001b[1;33m=\u001b[0m\u001b[0mtol\u001b[0m\u001b[1;33m,\u001b[0m \u001b[0mscale\u001b[0m\u001b[1;33m=\u001b[0m\u001b[0mscale\u001b[0m\u001b[1;33m,\u001b[0m \u001b[0mcov_type\u001b[0m\u001b[1;33m=\u001b[0m\u001b[0mcov_type\u001b[0m\u001b[1;33m,\u001b[0m\u001b[1;33m\u001b[0m\u001b[1;33m\u001b[0m\u001b[0m\n\u001b[1;32m-> 1012\u001b[1;33m                                   cov_kwds=cov_kwds, use_t=use_t, **kwargs)\n\u001b[0m\u001b[0;32m   1013\u001b[0m         \u001b[1;32melse\u001b[0m\u001b[1;33m:\u001b[0m\u001b[1;33m\u001b[0m\u001b[1;33m\u001b[0m\u001b[0m\n\u001b[0;32m   1014\u001b[0m             \u001b[0mself\u001b[0m\u001b[1;33m.\u001b[0m\u001b[0m_optim_hessian\u001b[0m \u001b[1;33m=\u001b[0m \u001b[0mkwargs\u001b[0m\u001b[1;33m.\u001b[0m\u001b[0mget\u001b[0m\u001b[1;33m(\u001b[0m\u001b[1;34m'optim_hessian'\u001b[0m\u001b[1;33m)\u001b[0m\u001b[1;33m\u001b[0m\u001b[1;33m\u001b[0m\u001b[0m\n",
      "\u001b[1;32m~\\Anaconda3\\lib\\site-packages\\statsmodels\\genmod\\generalized_linear_model.py\u001b[0m in \u001b[0;36m_fit_irls\u001b[1;34m(self, start_params, maxiter, tol, scale, cov_type, cov_kwds, use_t, **kwargs)\u001b[0m\n\u001b[0;32m   1139\u001b[0m             \u001b[1;32mif\u001b[0m \u001b[0mendog\u001b[0m\u001b[1;33m.\u001b[0m\u001b[0msqueeze\u001b[0m\u001b[1;33m(\u001b[0m\u001b[1;33m)\u001b[0m\u001b[1;33m.\u001b[0m\u001b[0mndim\u001b[0m \u001b[1;33m==\u001b[0m \u001b[1;36m1\u001b[0m \u001b[1;32mand\u001b[0m \u001b[0mnp\u001b[0m\u001b[1;33m.\u001b[0m\u001b[0mallclose\u001b[0m\u001b[1;33m(\u001b[0m\u001b[0mmu\u001b[0m \u001b[1;33m-\u001b[0m \u001b[0mendog\u001b[0m\u001b[1;33m,\u001b[0m \u001b[1;36m0\u001b[0m\u001b[1;33m)\u001b[0m\u001b[1;33m:\u001b[0m\u001b[1;33m\u001b[0m\u001b[1;33m\u001b[0m\u001b[0m\n\u001b[0;32m   1140\u001b[0m                 \u001b[0mmsg\u001b[0m \u001b[1;33m=\u001b[0m \u001b[1;34m\"Perfect separation detected, results not available\"\u001b[0m\u001b[1;33m\u001b[0m\u001b[1;33m\u001b[0m\u001b[0m\n\u001b[1;32m-> 1141\u001b[1;33m                 \u001b[1;32mraise\u001b[0m \u001b[0mPerfectSeparationError\u001b[0m\u001b[1;33m(\u001b[0m\u001b[0mmsg\u001b[0m\u001b[1;33m)\u001b[0m\u001b[1;33m\u001b[0m\u001b[1;33m\u001b[0m\u001b[0m\n\u001b[0m\u001b[0;32m   1142\u001b[0m             converged = _check_convergence(criterion, iteration + 1, atol,\n\u001b[0;32m   1143\u001b[0m                                            rtol)\n",
      "\u001b[1;31mPerfectSeparationError\u001b[0m: Perfect separation detected, results not available"
     ]
    }
   ],
   "source": [
    "item_names = ['Penne alla Vodka', 'Grilled Chicken Bowl','Mac and Cheese','Grilled Chicken Tenders','Seared Steak Bowl','Chicken Bacon Club',\n",
    "             'BBQ Pulled Pork Plate','Chicken Parm','Smashed Cheeseburger','Build-Your-Own Chicken Tacos']\n",
    "performances = { i:item_poisson(i) for i in item_names}"
   ]
  },
  {
   "cell_type": "markdown",
   "metadata": {},
   "source": [
    "## Compare coefficients of full model on 18Spring with model on 18Fall"
   ]
  },
  {
   "cell_type": "code",
   "execution_count": 95,
   "metadata": {},
   "outputs": [],
   "source": [
    "spring = pickle.load(open('final_dataset_18spring.p',\"rb\"))\n",
    "fall = pickle.load(open('final_dataset_18fall.p',\"rb\"))\n",
    "spring=spring.drop('n_users',axis=1)\n",
    "fall=fall.drop('n_users',axis=1)\n",
    "spring = spring[spring['week_n']>=3]"
   ]
  },
  {
   "cell_type": "code",
   "execution_count": 101,
   "metadata": {},
   "outputs": [
    {
     "name": "stdout",
     "output_type": "stream",
     "text": [
      "                            OLS Regression Results                            \n",
      "==============================================================================\n",
      "Dep. Variable:                  sales   R-squared:                       0.403\n",
      "Model:                            OLS   Adj. R-squared:                  0.391\n",
      "Method:                 Least Squares   F-statistic:                     33.84\n",
      "Date:                Sun, 17 Feb 2019   Prob (F-statistic):           1.10e-40\n",
      "Time:                        21:50:37   Log-Likelihood:                -1405.5\n",
      "No. Observations:                 410   AIC:                             2829.\n",
      "Df Residuals:                     401   BIC:                             2865.\n",
      "Df Model:                           8                                         \n",
      "Covariance Type:            nonrobust                                         \n",
      "==========================================================================================\n",
      "                             coef    std err          t      P>|t|      [0.025      0.975]\n",
      "------------------------------------------------------------------------------------------\n",
      "const                     -3.3203      2.469     -1.345      0.179      -8.175       1.534\n",
      "Cycle__1                  -1.0447      0.914     -1.143      0.254      -2.842       0.752\n",
      "Cycle__3                  13.9326      2.143      6.503      0.000       9.721      18.145\n",
      "avg_over_last_3_cycles     0.2760      0.078      3.560      0.000       0.124       0.428\n",
      "classes                    8.6537      1.685      5.137      0.000       5.342      11.965\n",
      "exam                       1.7957      0.968      1.855      0.064      -0.107       3.698\n",
      "last_2_week_sales          0.4343      0.065      6.732      0.000       0.307       0.561\n",
      "sports                    -4.2420      1.628     -2.606      0.010      -7.442      -1.042\n",
      "week_n                    -0.0044      0.097     -0.046      0.964      -0.195       0.187\n",
      "==============================================================================\n",
      "Omnibus:                       15.987   Durbin-Watson:                   1.365\n",
      "Prob(Omnibus):                  0.000   Jarque-Bera (JB):               36.577\n",
      "Skew:                           0.081   Prob(JB):                     1.14e-08\n",
      "Kurtosis:                       4.454   Cond. No.                         265.\n",
      "==============================================================================\n",
      "\n",
      "Warnings:\n",
      "[1] Standard Errors assume that the covariance matrix of the errors is correctly specified.\n"
     ]
    }
   ],
   "source": [
    "X = spring[spring.columns.difference(['sales','item_name','Cycle__2'])]\n",
    "Y = spring[['sales']]\n",
    "X = sm.add_constant(X)\n",
    "est = sm.OLS(Y, X)\n",
    "est2 = est.fit()\n",
    "print(est2.summary())"
   ]
  },
  {
   "cell_type": "code",
   "execution_count": 104,
   "metadata": {
    "scrolled": false
   },
   "outputs": [
    {
     "name": "stdout",
     "output_type": "stream",
     "text": [
      "                            OLS Regression Results                            \n",
      "==============================================================================\n",
      "Dep. Variable:                  sales   R-squared:                       0.445\n",
      "Model:                            OLS   Adj. R-squared:                  0.430\n",
      "Method:                 Least Squares   F-statistic:                     29.73\n",
      "Date:                Sun, 17 Feb 2019   Prob (F-statistic):           5.10e-30\n",
      "Time:                        21:50:49   Log-Likelihood:                -804.94\n",
      "No. Observations:                 268   AIC:                             1626.\n",
      "Df Residuals:                     260   BIC:                             1655.\n",
      "Df Model:                           7                                         \n",
      "Covariance Type:            nonrobust                                         \n",
      "==========================================================================================\n",
      "                             coef    std err          t      P>|t|      [0.025      0.975]\n",
      "------------------------------------------------------------------------------------------\n",
      "const                      1.2872      0.679      1.897      0.059      -0.049       2.624\n",
      "Cycle__1                   0.8024      1.006      0.797      0.426      -1.179       2.784\n",
      "Cycle__3                   2.5576      0.923      2.770      0.006       0.739       4.376\n",
      "avg_over_last_3_cycles     0.1243      0.098      1.266      0.207      -0.069       0.318\n",
      "classes                    3.3768      0.494      6.834      0.000       2.404       4.350\n",
      "exam                      -0.9275      0.786     -1.180      0.239      -2.475       0.620\n",
      "last_2_week_sales          0.4944      0.087      5.653      0.000       0.322       0.667\n",
      "sports                     0.8914      0.709      1.257      0.210      -0.505       2.288\n",
      "week_n                    -0.1426      0.101     -1.414      0.158      -0.341       0.056\n",
      "==============================================================================\n",
      "Omnibus:                        0.264   Durbin-Watson:                   1.917\n",
      "Prob(Omnibus):                  0.876   Jarque-Bera (JB):                0.222\n",
      "Skew:                           0.070   Prob(JB):                        0.895\n",
      "Kurtosis:                       2.991   Cond. No.                     2.20e+17\n",
      "==============================================================================\n",
      "\n",
      "Warnings:\n",
      "[1] Standard Errors assume that the covariance matrix of the errors is correctly specified.\n",
      "[2] The smallest eigenvalue is 6.93e-30. This might indicate that there are\n",
      "strong multicollinearity problems or that the design matrix is singular.\n"
     ]
    }
   ],
   "source": [
    "X = fall[fall.columns.difference(['sales','item_name','Cycle__2'])]\n",
    "Y = fall[['sales']]\n",
    "X = sm.add_constant(X)\n",
    "est = sm.OLS(Y, X)\n",
    "est2 = est.fit()\n",
    "print(est2.summary())"
   ]
  },
  {
   "cell_type": "markdown",
   "metadata": {},
   "source": [
    "## Fit final linear model on FALL"
   ]
  },
  {
   "cell_type": "code",
   "execution_count": 4,
   "metadata": {},
   "outputs": [],
   "source": [
    "fall = pickle.load(open('final_dataset_18fall.p',\"rb\"))\n",
    "del fall['classes']\n",
    "del fall['Cycle__1']"
   ]
  },
  {
   "cell_type": "code",
   "execution_count": 31,
   "metadata": {},
   "outputs": [],
   "source": [
    "X = fall[['Cycle__2', 'avg_over_last_3_cycles', 'exam', 'last_2_week_sales', 'n_users', 'sellout*2_week_lag', 'week_n']]\n",
    "Y = fall[['sales']]"
   ]
  },
  {
   "cell_type": "code",
   "execution_count": 32,
   "metadata": {
    "scrolled": true
   },
   "outputs": [
    {
     "name": "stdout",
     "output_type": "stream",
     "text": [
      "                            OLS Regression Results                            \n",
      "==============================================================================\n",
      "Dep. Variable:                  sales   R-squared:                       0.497\n",
      "Model:                            OLS   Adj. R-squared:                  0.484\n",
      "Method:                 Least Squares   F-statistic:                     36.77\n",
      "Date:                Tue, 12 Mar 2019   Prob (F-statistic):           1.52e-35\n",
      "Time:                        16:30:58   Log-Likelihood:                -791.53\n",
      "No. Observations:                 268   AIC:                             1599.\n",
      "Df Residuals:                     260   BIC:                             1628.\n",
      "Df Model:                           7                                         \n",
      "Covariance Type:            nonrobust                                         \n",
      "==========================================================================================\n",
      "                             coef    std err          t      P>|t|      [0.025      0.975]\n",
      "------------------------------------------------------------------------------------------\n",
      "const                     26.3088      3.369      7.809      0.000      19.675      32.942\n",
      "Cycle__2                  -4.0245      0.712     -5.650      0.000      -5.427      -2.622\n",
      "avg_over_last_3_cycles     0.3075      0.100      3.079      0.002       0.111       0.504\n",
      "exam                       0.7755      0.745      1.041      0.299      -0.691       2.242\n",
      "last_2_week_sales          0.3427      0.086      4.006      0.000       0.174       0.511\n",
      "n_users                   -0.0039      0.001     -4.662      0.000      -0.006      -0.002\n",
      "sellout*2_week_lag         0.1035      0.025      4.081      0.000       0.054       0.153\n",
      "week_n                    -0.0305      0.096     -0.318      0.750      -0.219       0.158\n",
      "==============================================================================\n",
      "Omnibus:                        2.503   Durbin-Watson:                   2.000\n",
      "Prob(Omnibus):                  0.286   Jarque-Bera (JB):                2.586\n",
      "Skew:                           0.010   Prob(JB):                        0.274\n",
      "Kurtosis:                       3.481   Cond. No.                     5.13e+04\n",
      "==============================================================================\n",
      "\n",
      "Warnings:\n",
      "[1] Standard Errors assume that the covariance matrix of the errors is correctly specified.\n",
      "[2] The condition number is large, 5.13e+04. This might indicate that there are\n",
      "strong multicollinearity or other numerical problems.\n"
     ]
    }
   ],
   "source": [
    "X = sm.add_constant(X)\n",
    "est = sm.OLS(Y, X)\n",
    "est2 = est.fit()\n",
    "print(est2.summary())"
   ]
  },
  {
   "cell_type": "code",
   "execution_count": 44,
   "metadata": {
    "scrolled": false
   },
   "outputs": [],
   "source": [
    "pred_df = est2.get_prediction().summary_frame(alpha=0.05)"
   ]
  },
  {
   "cell_type": "code",
   "execution_count": 47,
   "metadata": {},
   "outputs": [
    {
     "data": {
      "text/plain": [
       "Index(['mean', 'mean_se', 'mean_ci_lower', 'mean_ci_upper', 'obs_ci_lower',\n",
       "       'obs_ci_upper'],\n",
       "      dtype='object')"
      ]
     },
     "execution_count": 47,
     "metadata": {},
     "output_type": "execute_result"
    }
   ],
   "source": [
    "pred_df.columns"
   ]
  },
  {
   "cell_type": "code",
   "execution_count": 41,
   "metadata": {},
   "outputs": [
    {
     "data": {
      "text/plain": [
       "Text(0.5, 1.0, 'Plot of Residuals')"
      ]
     },
     "execution_count": 41,
     "metadata": {},
     "output_type": "execute_result"
    },
    {
     "data": {
      "image/png": "[encoded data removed]",
      "text/plain": [
       "<Figure size 432x288 with 1 Axes>"
      ]
     },
     "metadata": {
      "needs_background": "light"
     },
     "output_type": "display_data"
    }
   ],
   "source": [
    "plt.scatter(np.arange(268),residual)\n",
    "plt.xlabel('#sample')\n",
    "plt.ylabel('Residual')\n",
    "plt.title('Plot of Residuals')"
   ]
  },
  {
   "cell_type": "code",
   "execution_count": 35,
   "metadata": {},
   "outputs": [
    {
     "data": {
      "image/png": "[encoded data removed]",
      "text/plain": [
       "<Figure size 432x288 with 1 Axes>"
      ]
     },
     "metadata": {
      "needs_background": "light"
     },
     "output_type": "display_data"
    }
   ],
   "source": [
    "sm.qqplot(residual, line='s')\n",
    "plt.title('Q-Q plot for residuals')\n",
    "plt.show()"
   ]
  },
  {
   "cell_type": "code",
   "execution_count": 14,
   "metadata": {},
   "outputs": [],
   "source": [
    "pickle.dump(est2,open('final_model_stats.p',\"wb\"))"
   ]
  },
  {
   "cell_type": "code",
   "execution_count": null,
   "metadata": {},
   "outputs": [],
   "source": []
  },
  {
   "cell_type": "code",
   "execution_count": 33,
   "metadata": {},
   "outputs": [
    {
     "data": {
      "text/plain": [
       "LinearRegression(copy_X=True, fit_intercept=True, n_jobs=None,\n",
       "         normalize=False)"
      ]
     },
     "execution_count": 33,
     "metadata": {},
     "output_type": "execute_result"
    }
   ],
   "source": [
    "final_model = linear_model.LinearRegression()\n",
    "final_model.fit(X,np.ravel(Y))"
   ]
  },
  {
   "cell_type": "code",
   "execution_count": 56,
   "metadata": {},
   "outputs": [],
   "source": [
    "pickle.dump(final_model,open('final_model.p',\"wb\" ))"
   ]
  },
  {
   "cell_type": "code",
   "execution_count": null,
   "metadata": {},
   "outputs": [],
   "source": []
  }
 ],
 "metadata": {
  "kernelspec": {
   "display_name": "Python 3",
   "language": "python",
   "name": "python3"
  },
  "language_info": {
   "codemirror_mode": {
    "name": "ipython",
    "version": 3
   },
   "file_extension": ".py",
   "mimetype": "text/x-python",
   "name": "python",
   "nbconvert_exporter": "python",
   "pygments_lexer": "ipython3",
   "version": "3.7.1"
  }
 },
 "nbformat": 4,
 "nbformat_minor": 2
}
